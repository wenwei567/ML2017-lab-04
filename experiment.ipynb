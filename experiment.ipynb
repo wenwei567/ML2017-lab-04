{
 "cells": [
  {
   "cell_type": "code",
   "execution_count": 1,
   "metadata": {
    "collapsed": true
   },
   "outputs": [],
   "source": [
    "import random\n",
    "import numpy as np\n",
    "import pandas as pd\n",
    "import matplotlib.pyplot as plt"
   ]
  },
  {
   "cell_type": "code",
   "execution_count": 2,
   "metadata": {
    "collapsed": true
   },
   "outputs": [],
   "source": [
    "#导入数据，格式为 n_user * n_item ,所有用户未评分用零填充\n",
    "def loadData(file):\n",
    "    data = pd.read_csv(file,'\\t')\n",
    "    data.columns = ['user_id', 'item_id', 'rating', 'timestamp']\n",
    "    n_user = 943\n",
    "    n_item = 1682\n",
    "    R = np.zeros((n_user,n_item))\n",
    "    \n",
    "    for line in data.itertuples():\n",
    "        R[line[1]-1 , line[2]-1] = line[3]\n",
    "    return R"
   ]
  },
  {
   "cell_type": "code",
   "execution_count": 3,
   "metadata": {
    "collapsed": true
   },
   "outputs": [],
   "source": [
    "#将用户评分的位置记录在一个list中，不用每次都扫面评分矩阵，list中的数据格式为 (u,i) 数对\n",
    "def dataScale(data):\n",
    "    n_sample,n_item = data.shape\n",
    "    data_list = []\n",
    "    for i in range(n_sample):\n",
    "        for j in range(n_item):\n",
    "            if data[i,j] != 0 :\n",
    "                data_list.append((i,j))\n",
    "    return data_list"
   ]
  },
  {
   "cell_type": "code",
   "execution_count": 4,
   "metadata": {
    "collapsed": true
   },
   "outputs": [],
   "source": [
    "#loss函数只计算用户已评分的，最后返回每条评价的和的平均\n",
    "def Loss(R_test,test_list,P,Q,lampda_p,lampda_q):\n",
    "    n_user,n_item = R_test.shape\n",
    "    l = 0\n",
    "    for i in range(len(test_list)):\n",
    "        x,y = test_list[i]\n",
    "        l += np.power((R_test[x,y]-np.dot(P[x],Q[y])),2) + lampda_p * np.dot(P[x],P[x]) + lampda_q * np.dot(Q[y],Q[y])\n",
    "    return l/(len(test_list))"
   ]
  },
  {
   "cell_type": "code",
   "execution_count": 5,
   "metadata": {
    "collapsed": true
   },
   "outputs": [],
   "source": [
    "#计算loss对p的偏导\n",
    "def grad_p(error,p,q,lampda_p):\n",
    "    grad = -error * q + lampda_p * p\n",
    "    return grad"
   ]
  },
  {
   "cell_type": "code",
   "execution_count": 6,
   "metadata": {
    "collapsed": true
   },
   "outputs": [],
   "source": [
    "#计算loss对q的偏导\n",
    "def grad_q(error,p,q,lampda_q):\n",
    "    grad = -error * p +lampda_q * q\n",
    "    return grad"
   ]
  },
  {
   "cell_type": "code",
   "execution_count": 7,
   "metadata": {
    "collapsed": true
   },
   "outputs": [],
   "source": [
    "#采用随机梯度下降\n",
    "def SGD(R_train,R_test,P,Q,loss,lr,iteration,random_list,data_list):\n",
    "    lampda_p = 0.1  #正则项系数\n",
    "    lampda_q = 0.1  #正则项系数\n",
    "    test_list = dataScale(R_test)  #扫描并记录测试矩阵中的非零项\n",
    "    \n",
    "    #更新P和Q矩阵\n",
    "    for i in range(iteration):\n",
    "        x,y = data_list[random_list[i]]\n",
    "        error = R_train[x,y] - np.dot(P[x],Q[y])\n",
    "        P[x] = P[x] - lr * grad_p(error,P[x],Q[y],lampda_p)\n",
    "        Q[y] = Q[y] - lr * grad_q(error,P[x],Q[y],lampda_q)\n",
    "        loss.append(Loss(R_test,test_list,P,Q,lampda_p,lampda_q))\n",
    "    return  #P和Q都是传进来的，不用返回。"
   ]
  },
  {
   "cell_type": "code",
   "execution_count": 13,
   "metadata": {},
   "outputs": [
    {
     "data": {
      "image/png": "[encoded data removed]",
      "text/plain": [
       "<matplotlib.figure.Figure at 0x7fb797d25438>"
      ]
     },
     "metadata": {},
     "output_type": "display_data"
    }
   ],
   "source": [
    "n_user = 943  #用户数\n",
    "n_item = 1682  #电影数\n",
    "K = 2  #矩阵分解的系数\n",
    "\n",
    "lr = 0.1  #学习率\n",
    "\n",
    "#导入训练集和测试集\n",
    "R_train = loadData('./ml-100k/u1.base')\n",
    "R_test = loadData('./ml-100k/u1.test')\n",
    "\n",
    "iteration = 8000  #训练次数\n",
    "\n",
    "np.random.seed(1)\n",
    "data_list = dataScale(R_train)  #扫描并记录训练集矩阵中的非零项\n",
    "random_list = np.random.randint(0, len(data_list),iteration)  #生成随机数列表\n",
    "\n",
    "\n",
    "P = np.random.rand(n_user,K)  #随机初始化P、Q矩阵\n",
    "Q = np.random.rand(n_item,K)  #为方便计算，我把Q的格式设置为: n_item * k\n",
    "\n",
    "loss = [] #记录测试集的loss值\n",
    "\n",
    "SGD(R_train,R_test,P,Q,loss,lr,iteration,random_list,data_list)  #对传进SGD进行训练\n",
    "\n",
    "plt.plot(loss)\n",
    "plt.xlabel('Iteration')\n",
    "plt.ylabel('Loss')\n",
    "plt.show()"
   ]
  },
  {
   "cell_type": "code",
   "execution_count": 14,
   "metadata": {},
   "outputs": [
    {
     "data": {
      "image/png": "[encoded data removed]",
      "text/plain": [
       "<matplotlib.figure.Figure at 0x7fb7a31487f0>"
      ]
     },
     "metadata": {},
     "output_type": "display_data"
    }
   ],
   "source": [
    "n_user = 943  #用户数\n",
    "n_item = 1682  #电影数\n",
    "K = 10  #矩阵分解的系数\n",
    "\n",
    "lr = 0.1  #学习率\n",
    "\n",
    "#导入训练集和测试集\n",
    "R_train = loadData('./ml-100k/u1.base')\n",
    "R_test = loadData('./ml-100k/u1.test')\n",
    "\n",
    "iteration = 8000  #训练次数\n",
    "\n",
    "np.random.seed(1)\n",
    "data_list = dataScale(R_train)  #扫描并记录训练集矩阵中的非零项\n",
    "random_list = np.random.randint(0, len(data_list),iteration)  #生成随机数列表\n",
    "\n",
    "\n",
    "P = np.random.rand(n_user,K)  #随机初始化P、Q矩阵\n",
    "Q = np.random.rand(n_item,K)  #为方便计算，我把Q的格式设置为: n_item * k\n",
    "loss = [] #记录测试集的loss值\n",
    "\n",
    "SGD(R_train,R_test,P,Q,loss,lr,iteration,random_list,data_list)  #对传进SGD进行训练\n",
    "\n",
    "plt.plot(loss)\n",
    "plt.xlabel('Iteration')\n",
    "plt.ylabel('Loss')\n",
    "plt.show()"
   ]
  },
  {
   "cell_type": "code",
   "execution_count": 8,
   "metadata": {},
   "outputs": [
    {
     "data": {
      "image/png": "[encoded data removed]",
      "text/plain": [
       "<matplotlib.figure.Figure at 0x7fcde0550048>"
      ]
     },
     "metadata": {},
     "output_type": "display_data"
    }
   ],
   "source": [
    "n_user = 943  #用户数\n",
    "n_item = 1682  #电影数\n",
    "K = 5  #矩阵分解的系数\n",
    "\n",
    "lr = 0.1  #学习率\n",
    "\n",
    "#导入训练集和测试集\n",
    "R_train = loadData('./ml-100k/u1.base')\n",
    "R_test = loadData('./ml-100k/u1.test')\n",
    "\n",
    "iteration = 8000  #训练次数\n",
    "\n",
    "np.random.seed(1)\n",
    "data_list = dataScale(R_train)  #扫描并记录训练集矩阵中的非零项\n",
    "random_list = np.random.randint(0, len(data_list),iteration)  #生成随机数列表\n",
    "\n",
    "\n",
    "P = np.random.rand(n_user,K)  #随机初始化P、Q矩阵\n",
    "Q = np.random.rand(n_item,K)  #为方便计算，我把Q的格式设置为: n_item * k\n",
    "loss = [] #记录测试集的loss值\n",
    "\n",
    "SGD(R_train,R_test,P,Q,loss,lr,iteration,random_list,data_list)  #对传进SGD进行训练\n",
    "\n",
    "plt.plot(loss)\n",
    "plt.xlabel('Iteration')\n",
    "plt.ylabel('Loss')\n",
    "plt.show()"
   ]
  }
 ],
 "metadata": {
  "kernelspec": {
   "display_name": "Python 3",
   "language": "python",
   "name": "python3"
  },
  "language_info": {
   "codemirror_mode": {
    "name": "ipython",
    "version": 3
   },
   "file_extension": ".py",
   "mimetype": "text/x-python",
   "name": "python",
   "nbconvert_exporter": "python",
   "pygments_lexer": "ipython3",
   "version": "3.6.3"
  }
 },
 "nbformat": 4,
 "nbformat_minor": 2
}
